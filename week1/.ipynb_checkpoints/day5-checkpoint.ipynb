{
 "cells": [
  {
   "cell_type": "markdown",
   "id": "a98030af-fcd1-4d63-a36e-38ba053498fa",
   "metadata": {},
   "source": [
    "# A full business solution\n",
    "\n",
    "## Now we will take our project from Day 1 to the next level\n",
    "\n",
    "### BUSINESS CHALLENGE:\n",
    "\n",
    "Create a product that builds a Brochure for a company to be used for prospective clients, investors and potential recruits.\n",
    "\n",
    "We will be provided a company name and their primary website.\n",
    "\n",
    "See the end of this notebook for examples of real-world business applications.\n",
    "\n",
    "And remember: I'm always available if you have problems or ideas! Please do reach out."
   ]
  },
  {
   "cell_type": "code",
   "execution_count": 2,
   "id": "d5b08506-dc8b-4443-9201-5f1848161363",
   "metadata": {},
   "outputs": [],
   "source": [
    "# imports\n",
    "# If these fail, please check you're running from an 'activated' environment with (llms) in the command prompt\n",
    "\n",
    "import os\n",
    "import requests\n",
    "import json\n",
    "from typing import List\n",
    "from dotenv import load_dotenv\n",
    "from bs4 import BeautifulSoup\n",
    "from IPython.display import Markdown, display, update_display\n",
    "from openai import OpenAI"
   ]
  },
  {
   "cell_type": "code",
   "execution_count": null,
   "id": "fc5d8880-f2ee-4c06-af16-ecbc0262af61",
   "metadata": {},
   "outputs": [],
   "source": [
    "# Initialize and constants\n",
    "\n",
    "load_dotenv(override=True)\n",
    "api_key = os.getenv('OPENAI_API_KEY')\n",
    "\n",
    "if api_key and api_key.startswith('sk-proj-') and len(api_key)>10:\n",
    "    print(\"API key looks good so far\")\n",
    "else:\n",
    "    print(\"There might be a problem with your API key? Please visit the troubleshooting notebook!\")\n",
    "    \n",
    "MODEL = 'gpt-4o-mini'\n",
    "openai = OpenAI()"
   ]
  },
  {
   "cell_type": "code",
   "execution_count": 3,
   "id": "106dd65e-90af-4ca8-86b6-23a41840645b",
   "metadata": {},
   "outputs": [],
   "source": [
    "# A class to represent a Webpage\n",
    "\n",
    "# Some websites need you to use proper headers when fetching them:\n",
    "headers = {\n",
    " \"User-Agent\": \"Mozilla/5.0 (Windows NT 10.0; Win64; x64) AppleWebKit/537.36 (KHTML, like Gecko) Chrome/117.0.0.0 Safari/537.36\"\n",
    "}\n",
    "\n",
    "class Website:\n",
    "    \"\"\"\n",
    "    A utility class to represent a Website that we have scraped, now with links\n",
    "    \"\"\"\n",
    "\n",
    "    def __init__(self, url):\n",
    "        self.url = url\n",
    "        response = requests.get(url, headers=headers)\n",
    "        self.body = response.content\n",
    "        soup = BeautifulSoup(self.body, 'html.parser')\n",
    "        self.title = soup.title.string if soup.title else \"No title found\"\n",
    "        if soup.body:\n",
    "            for irrelevant in soup.body([\"script\", \"style\", \"img\", \"input\"]):\n",
    "                irrelevant.decompose()\n",
    "            self.text = soup.body.get_text(separator=\"\\n\", strip=True)\n",
    "        else:\n",
    "            self.text = \"\"\n",
    "        links = [link.get('href') for link in soup.find_all('a')]\n",
    "        self.links = [link for link in links if link]\n",
    "\n",
    "    def get_contents(self):\n",
    "        return f\"Webpage Title:\\n{self.title}\\nWebpage Contents:\\n{self.text}\\n\\n\""
   ]
  },
  {
   "cell_type": "code",
   "execution_count": 6,
   "id": "9209f549-9b17-404e-8407-ae632eef0464",
   "metadata": {},
   "outputs": [],
   "source": [
    "obj=Website(\"https://www.purplle.com/product/maybelline-new-york-fit-me-12hr-oil-control-compact-shade-220-8-g-17-18-20-76-64\")"
   ]
  },
  {
   "cell_type": "code",
   "execution_count": 36,
   "id": "18243036-9662-4848-8f07-86c211de6a42",
   "metadata": {},
   "outputs": [],
   "source": [
    "# print(obj.get_contents())"
   ]
  },
  {
   "cell_type": "code",
   "execution_count": 34,
   "id": "1436084e-bdb7-4c96-832c-85209d7de929",
   "metadata": {},
   "outputs": [],
   "source": [
    "# print(obj.text)"
   ]
  },
  {
   "cell_type": "code",
   "execution_count": 35,
   "id": "ca5c0d53-ae1f-4e27-8831-682b70bec8fa",
   "metadata": {},
   "outputs": [],
   "source": [
    "# print(obj.links)"
   ]
  },
  {
   "cell_type": "markdown",
   "id": "1771af9c-717a-4fca-bbbe-8a95893312c3",
   "metadata": {},
   "source": [
    "## First step: Have GPT-4o-mini figure out which links are relevant\n",
    "\n",
    "### Use a call to gpt-4o-mini to read the links on a webpage, and respond in structured JSON.  \n",
    "It should decide which links are relevant, and replace relative links such as \"/about\" with \"https://company.com/about\".  \n",
    "We will use \"one shot prompting\" in which we provide an example of how it should respond in the prompt.\n",
    "\n",
    "This is an excellent use case for an LLM, because it requires nuanced understanding. Imagine trying to code this without LLMs by parsing and analyzing the webpage - it would be very hard!\n",
    "\n",
    "Sidenote: there is a more advanced technique called \"Structured Outputs\" in which we require the model to respond according to a spec. We cover this technique in Week 8 during our autonomous Agentic AI project."
   ]
  },
  {
   "cell_type": "code",
   "execution_count": 38,
   "id": "6957b079-0d96-45f7-a26a-3487510e9b35",
   "metadata": {},
   "outputs": [],
   "source": [
    "link_system_prompt = \"You are provided with a list of links found on a webpage. \\\n",
    "You are able to decide which of the links would be most relevant to include in a brochure about the company, \\\n",
    "such as links to an About page, or a Company page, or Careers/Jobs pages.\\n\"\n",
    "link_system_prompt += \"You should respond in JSON as in this example:\"\n",
    "link_system_prompt += \"\"\"\n",
    "{\n",
    "    \"links\": [\n",
    "        {\"type\": \"about page\", \"url\": \"https://full.url/goes/here/about\"},\n",
    "        {\"type\": \"careers page\", \"url\": \"https://another.full.url/careers\"}\n",
    "    ]\n",
    "}\n",
    "\"\"\"\n",
    "link_system_prompt+=\"When you see links for careers respond in JSON as in this example:\"\n",
    "link_system_prompt+=\"\"\"\n",
    "{\n",
    "\"Message\":\"Here in the company you will grow till stars and you can do multiple things like engineering, management\"\n",
    "}\n",
    "\"\"\""
   ]
  },
  {
   "cell_type": "code",
   "execution_count": 39,
   "id": "b97e4068-97ed-4120-beae-c42105e4d59a",
   "metadata": {},
   "outputs": [
    {
     "name": "stdout",
     "output_type": "stream",
     "text": [
      "You are provided with a list of links found on a webpage. You are able to decide which of the links would be most relevant to include in a brochure about the company, such as links to an About page, or a Company page, or Careers/Jobs pages.\n",
      "You should respond in JSON as in this example:\n",
      "{\n",
      "    \"links\": [\n",
      "        {\"type\": \"about page\", \"url\": \"https://full.url/goes/here/about\"},\n",
      "        {\"type\": \"careers page\", \"url\": \"https://another.full.url/careers\"}\n",
      "    ]\n",
      "}\n",
      "When you see links for careers respond in JSON as in this example:\n",
      "{\n",
      "\"Message\":\"Here in the company you will grow till stars and you can do multiple things like engineering, management\"\n",
      "}\n",
      "\n"
     ]
    }
   ],
   "source": [
    "print(link_system_prompt)"
   ]
  },
  {
   "cell_type": "code",
   "execution_count": 40,
   "id": "8e1f601b-2eaf-499d-b6b8-c99050c9d6b3",
   "metadata": {},
   "outputs": [],
   "source": [
    "def get_links_user_prompt(website):\n",
    "    user_prompt = f\"Here is the list of links on the website of {website.url} - \"\n",
    "    user_prompt += \"please decide which of these are relevant web links for a brochure about the company, respond with the full https URL in JSON format. \\\n",
    "Do not include Terms of Service, Privacy, email links.\\n\"\n",
    "    user_prompt += \"Links (some might be relative links):\\n\"\n",
    "    user_prompt += \"\\n\".join(website.links)\n",
    "    return user_prompt"
   ]
  },
  {
   "cell_type": "code",
   "execution_count": 33,
   "id": "6bcbfa78-6395-4685-b92c-22d592050fd7",
   "metadata": {},
   "outputs": [],
   "source": [
    "# print(get_links_user_prompt(obj))"
   ]
  },
  {
   "cell_type": "code",
   "execution_count": 16,
   "id": "3ab6138d-1ec8-43cf-90a5-db57fa34463d",
   "metadata": {},
   "outputs": [],
   "source": [
    "openai = OpenAI(base_url='http://localhost:11434/v1', api_key='ollama')"
   ]
  },
  {
   "cell_type": "code",
   "execution_count": 17,
   "id": "a44a6fa3-8b8c-4a75-b789-2db68b9b7883",
   "metadata": {},
   "outputs": [],
   "source": [
    "MODEL=\"llama2\""
   ]
  },
  {
   "cell_type": "code",
   "execution_count": null,
   "id": "9f3c0a32-52a8-41cb-b229-1caf592ddd6b",
   "metadata": {},
   "outputs": [],
   "source": []
  },
  {
   "cell_type": "code",
   "execution_count": 41,
   "id": "a29aca19-ca13-471c-a4b4-5abbfa813f69",
   "metadata": {},
   "outputs": [],
   "source": [
    "def get_links(url):\n",
    "    website = Website(url)\n",
    "    response = openai.chat.completions.create(\n",
    "        model=MODEL,\n",
    "        messages=[\n",
    "            {\"role\": \"system\", \"content\": link_system_prompt},\n",
    "            {\"role\": \"user\", \"content\": get_links_user_prompt(website)}\n",
    "      ],\n",
    "        response_format={\"type\": \"json_object\"} #We are using this to get response in JSON format, but we also need to state this in our prompt, as we did in system prompt\n",
    "    )\n",
    "    result = response.choices[0].message.content #We are doing choices[0] because in our prompt we are only generating single variation of response, so 0, if we do multiple variations of reponse then we can do 0,1, 2 etc\n",
    "    return json.loads(result)"
   ]
  },
  {
   "cell_type": "code",
   "execution_count": null,
   "id": "734d3262-974b-40f9-954f-d57ab037e189",
   "metadata": {},
   "outputs": [],
   "source": []
  },
  {
   "cell_type": "code",
   "execution_count": 25,
   "id": "74a827a0-2782-4ae5-b210-4a242a8b4cc2",
   "metadata": {},
   "outputs": [],
   "source": [
    "# # Anthropic has made their site harder to scrape, so I'm using HuggingFace..\n",
    "\n",
    "# huggingface = Website(\"https://huggingface.co\")\n",
    "# huggingface.links"
   ]
  },
  {
   "cell_type": "code",
   "execution_count": 42,
   "id": "d3d583e2-dcc4-40cc-9b28-1e8dbf402924",
   "metadata": {},
   "outputs": [
    {
     "name": "stdout",
     "output_type": "stream",
     "text": [
      "{'links': [{'type': 'about page', 'url': 'https://www.purplle.com/pr/about-us'}, {'type': 'careers page', 'url': 'https://purplle.turbohire.co/careerpage/3ed17e54-f66f-4ade-90b9-ef064dc6fbd6'}, {'type': 'press page', 'url': 'https://www.purplle.com/pr/about-us'}]}\n"
     ]
    }
   ],
   "source": [
    "print(get_links(\"https://www.purplle.com/\"))"
   ]
  },
  {
   "cell_type": "code",
   "execution_count": null,
   "id": "ba849da5-743d-48a8-a364-beffec870b12",
   "metadata": {},
   "outputs": [],
   "source": []
  },
  {
   "cell_type": "markdown",
   "id": "0d74128e-dfb6-47ec-9549-288b621c838c",
   "metadata": {},
   "source": [
    "## Second step: make the brochure!\n",
    "\n",
    "Assemble all the details into another prompt to GPT4-o"
   ]
  },
  {
   "cell_type": "code",
   "execution_count": 20,
   "id": "85a5b6e2-e7ef-44a9-bc7f-59ede71037b5",
   "metadata": {},
   "outputs": [],
   "source": [
    "def get_all_details(url):\n",
    "    result = \"Landing page:\\n\"\n",
    "    result += Website(url).get_contents()\n",
    "    links = get_links(url)\n",
    "    print(\"Found links:\", links)\n",
    "    for link in links[\"links\"]:\n",
    "        result += f\"\\n\\n{link['type']}\\n\"\n",
    "        result += Website(link[\"url\"]).get_contents()\n",
    "    return result"
   ]
  },
  {
   "cell_type": "code",
   "execution_count": null,
   "id": "8ee718f1-2a7c-4282-9008-4693630b0460",
   "metadata": {},
   "outputs": [],
   "source": []
  },
  {
   "cell_type": "code",
   "execution_count": 29,
   "id": "5099bd14-076d-4745-baf3-dac08d8e5ab2",
   "metadata": {},
   "outputs": [],
   "source": [
    "# print(get_all_details(\"https://www.purplle.com/product/maybelline-new-york-fit-me-12hr-oil-control-compact-shade-220-8-g-17-18-20-76-64\"))"
   ]
  },
  {
   "cell_type": "code",
   "execution_count": null,
   "id": "8190643e-448b-490d-bc95-674ddc338b24",
   "metadata": {},
   "outputs": [],
   "source": []
  },
  {
   "cell_type": "code",
   "execution_count": 22,
   "id": "9b863a55-f86c-4e3f-8a79-94e24c1a8cf2",
   "metadata": {},
   "outputs": [],
   "source": [
    "system_prompt = \"You are an assistant that analyzes the contents of several relevant pages from a company website \\\n",
    "and creates a short brochure about the company for prospective customers, investors and recruits. Respond in markdown.\\\n",
    "Include details of company culture, customers and careers/jobs if you have the information.\"\n",
    "\n",
    "# Or uncomment the lines below for a more humorous brochure - this demonstrates how easy it is to incorporate 'tone':\n",
    "\n",
    "# system_prompt = \"You are an assistant that analyzes the contents of several relevant pages from a company website \\\n",
    "# and creates a short humorous, entertaining, jokey brochure about the company for prospective customers, investors and recruits. Respond in markdown.\\\n",
    "# Include details of company culture, customers and careers/jobs if you have the information.\"\n"
   ]
  },
  {
   "cell_type": "code",
   "execution_count": 23,
   "id": "6ab83d92-d36b-4ce0-8bcc-5bb4c2f8ff23",
   "metadata": {},
   "outputs": [],
   "source": [
    "def get_brochure_user_prompt(company_name, url):\n",
    "    user_prompt = f\"You are looking at a company called: {company_name}\\n\"\n",
    "    user_prompt += f\"Here are the contents of its landing page and other relevant pages; use this information to build a short brochure of the company in markdown.\\n\"\n",
    "    user_prompt += get_all_details(url)\n",
    "    user_prompt = user_prompt[:5_000] # Truncate if more than 5,000 characters\n",
    "    return user_prompt"
   ]
  },
  {
   "cell_type": "code",
   "execution_count": 28,
   "id": "cd909e0b-1312-4ce2-a553-821e795d7572",
   "metadata": {},
   "outputs": [],
   "source": [
    "# print(get_brochure_user_prompt(\"Purplle\", \"http://purplle.com/\"))"
   ]
  },
  {
   "cell_type": "code",
   "execution_count": null,
   "id": "51e4414c-d2dc-4ab1-a96a-bc87f599e0b4",
   "metadata": {},
   "outputs": [],
   "source": []
  },
  {
   "cell_type": "code",
   "execution_count": 44,
   "id": "e44de579-4a1a-4e6a-a510-20ea3e4b8d46",
   "metadata": {},
   "outputs": [],
   "source": [
    "def create_brochure(company_name, url):\n",
    "    response = openai.chat.completions.create(\n",
    "        model=MODEL,\n",
    "        messages=[\n",
    "            {\"role\": \"system\", \"content\": system_prompt},\n",
    "            {\"role\": \"user\", \"content\": get_brochure_user_prompt(company_name, url)}\n",
    "          ],\n",
    "    )\n",
    "    result = response.choices[0].message.content\n",
    "    display(Markdown(result))\n",
    "    return result"
   ]
  },
  {
   "cell_type": "code",
   "execution_count": 27,
   "id": "e093444a-9407-42ae-924a-145730591a39",
   "metadata": {},
   "outputs": [
    {
     "name": "stdout",
     "output_type": "stream",
     "text": [
      "Found links: {'links': [{'type': 'About page', 'url': 'https://www.purplle.com/about'}, {'type': 'Careers page', 'url': 'https://purplle.turbohire.co/careerpage/3ed17e54-f66f-4ade-90b9-ef064dc6fbd6'}, {'type': 'Press page', 'url': 'https://www.purplle.com/pr/about-us'}]}\n"
     ]
    },
    {
     "data": {
      "text/markdown": [
       "Here is a brochure for Purplle based on the information provided on their website:\n",
       "\n",
       "Introducing Purplle - Your One-Stop Shop for Beauty and Wellness\n",
       "\n",
       "Purplle is India's largest beauty and wellness platform, offering a wide range of products from top brands across categories such as makeup, skincare, haircare, fragrances, and more. With Purplle, you can discover, shop, and indulge in the world of beauty and wellness from the comfort of your own home.\n",
       "\n",
       "Culture:\n",
       "Purplle is a platform that believes in empowering women to take control of their beauty and wellness journey. Our mission is to provide a seamless shopping experience, offers exclusive deals, and educate our customers on the latest trends and products in the industry.\n",
       "\n",
       "Customers:\n",
       "Purplle caters to a diverse customer base, including women and men who are passionate about beauty and wellness. Our customers trust us for providing authentic products from reputed brands at affordable prices, along with convenient delivery options and excellent customer service.\n",
       "\n",
       "Careers/Jobs:\n",
       "Purplle is always looking for talented individuals to join our team. If you're passionate about beauty and wellness, and have a flair for marketing, sales, or technology, we would love to hear from you. Check out our careers page for current openings or reach out to us directly to explore opportunities.\n",
       "\n",
       "Investors:\n",
       "Purplle is committed to creating a sustainable and profitable business model that benefits both investors and customers. If you're an investor looking to invest in a innovative and fast-growing platform, we invite you to learn more about our opportunities.\n",
       "\n",
       "Recruits:\n",
       "Purplle is constantly expanding its team and seeking talented individuals to join us in our mission to revolutionize the beauty and wellness industry in India. If you have a passion for beauty and wellness, and are looking for a challenging and rewarding career, we would love to hear from you.\n",
       "\n",
       "Conclusion:\n",
       "Purplle is the ultimate destination for beauty and wellness enthusiasts in India. With our wide range of products, exclusive deals, and commitment to customer satisfaction, we aim to provide an unparalleled shopping experience. Join us today and discover the purple revolution in beauty and wellness!"
      ],
      "text/plain": [
       "<IPython.core.display.Markdown object>"
      ]
     },
     "metadata": {},
     "output_type": "display_data"
    }
   ],
   "source": [
    "create_brochure(\"Purplle\", \"http://purplle.com/\")"
   ]
  },
  {
   "cell_type": "code",
   "execution_count": 43,
   "id": "0a8abd66-97af-439a-bbfc-94f852d3cdaa",
   "metadata": {},
   "outputs": [],
   "source": [
    "spanish_system_prompt=\"You are an assistant that analyses a company brochure reads it and convert it to spanish\""
   ]
  },
  {
   "cell_type": "code",
   "execution_count": 45,
   "id": "e8a9439a-2e0e-4c1e-b7e1-5c5cb2620bb6",
   "metadata": {},
   "outputs": [],
   "source": [
    "def spanish_user_prompt(company, url):\n",
    "    user_prompt = f\"You are looking at a company called: {company}\\n\"\n",
    "    user_prompt += f\"Here are the contents of its brochure in english.\\n\"\n",
    "    user_prompt += create_brochure(company, url)\n",
    "    user_prompt = user_prompt[:5_000] # Truncate if more than 5,000 characters\n",
    "    return user_prompt"
   ]
  },
  {
   "cell_type": "code",
   "execution_count": 46,
   "id": "20d0e156-3839-4426-9fde-0a5e21251753",
   "metadata": {},
   "outputs": [],
   "source": [
    "def create_advanced_brochure(company, url):\n",
    "    response = openai.chat.completions.create(\n",
    "        model=MODEL,\n",
    "        messages=[\n",
    "            {\"role\": \"system\", \"content\": spanish_system_prompt},\n",
    "            {\"role\": \"user\", \"content\": spanish_user_prompt(company, url)}\n",
    "          ],\n",
    "    )\n",
    "    result = response.choices[0].message.content\n",
    "    display(Markdown(result))"
   ]
  },
  {
   "cell_type": "code",
   "execution_count": 47,
   "id": "42e92214-d3b9-4411-905f-0951f083e059",
   "metadata": {},
   "outputs": [
    {
     "name": "stdout",
     "output_type": "stream",
     "text": [
      "Found links: {'links': [{'type': 'about page', 'url': 'https://purplle.com/pr/about-us'}, {'type': 'careers page', 'url': 'https://purplle.turbohire.co/careerpage/3ed17e54-f66f-4ade-90b9-ef064dc6fbd6'}]}\n"
     ]
    },
    {
     "data": {
      "text/markdown": [
       "**Purplle Brochure**\n",
       "\n",
       "Introducing Purplle, your one-stop destination for all things beauty! As a leading online beauty and personal care store in India, we offer a wide range of products from top brands across the world. Browse through our categories and find the perfect product for your needs.\n",
       "\n",
       "**Company Culture**\n",
       "\n",
       "At Purplle, we are passionate about beauty and strive to provide an exceptional shopping experience for our customers. Our team consists of beauty enthusiasts who are always on the lookout for new products and trends. We believe in creating a fun and inclusive environment that inspires creativity and innovation.\n",
       "\n",
       "**Customers**\n",
       "\n",
       "Our customers are at the heart of everything we do. We cater to individuals of all ages, genders, and backgrounds who share a love for beauty. Whether you're a makeup pro or just starting your beauty journey, we have something for everyone.\n",
       "\n",
       "**Careers**\n",
       "\n",
       "If you're passionate about beauty and have a flair for marketing, sales, or technology, join us at Purplle! We offer exciting career opportunities in areas such as e-commerce, marketing, supply chain management, and more. Check out our careers page for the latest openings and apply today!\n",
       "\n",
       "**Elite Offers**\n",
       "\n",
       "As a valued customer of Purplle, you can enjoy exclusive offers and discounts on your purchases. From seasonal sales to loyalty programs, we reward our loyal customers with exciting benefits. Stay tuned for the latest deals and promotions!\n",
       "\n",
       "**Beauty Assistant**\n",
       "\n",
       "Need help finding the perfect product? Our Beauty Assistant is here to assist you! Tell us what you're looking for and we will recommend products tailored to your needs. With a wide range of options to choose from, you can trust our experts to guide you through your shopping experience.\n",
       "\n",
       "**SHOP CATEGORIES**\n",
       "\n",
       "Browse through our categories and discover the perfect product for your beauty journey. From skincare to haircare, fragrances to electricals, we have everything you need to look and feel great.\n",
       "\n",
       "* Skincare: Keep your skin healthy and radiant with our range of skincare products. From cleansers to moisturizers, exfoliants, and more, we have everything you need to achieve the glowing complexion you desire.\n",
       "* Haircare: Get the perfect hairstyle with our collection of hair care products. From shampoos and conditioners to styling products, treatments, and more, we have everything you need to keep your locks looking great.\n",
       "* Fragrances: Find your signature scent with our range of fragrances for men and women. From deodorants to perfumes, body sprays, and more, we have everything you need to make a lasting impression.\n",
       "* Electricals: Take your beauty routine to the next level with our selection of electrical products, including hair dryers, straighteners, curling irons, and more.\n",
       "\n",
       "**BRANDS**\n",
       "\n",
       "We offer an extensive range of products from top brands across the world. From established players to emerging labels, we collaborate with only the best in the industry to bring you the latest trends and innovations. Some of our popular brands include:\n",
       "\n",
       "* Lakme\n",
       "* Maybelline\n",
       "* Colorbar\n",
       "* L'oreal\n",
       "* Revlon\n",
       "* Avon\n",
       "* Elle18\n",
       "\n",
       "**Beauty Begins**\n",
       "\n",
       "As Coco Chanel once said, \"Beauty begins the moment you decide to be yourself.\" At Purplle, we believe that beauty is a state of mind, and we're here to help you find your perfect match. Explore our website today and discover the beauty that awaits you!\n",
       "\n",
       "**Payment**\n",
       "\n",
       "We offer multiple payment options to make your shopping experience convenient and secure. From credit cards to debit cards, internet banking, and more, we accept all major payment methods. Plus, with our 100% secure payments, you can rest assured that your transactions are protected.\n",
       "\n",
       "**Connect**\n",
       "\n",
       "Stay connected with Purplle for the latest news, promotions, and product launches! Follow us on social media or sign up for our newsletter to stay in the loop. Plus, enjoy exclusive discounts and offers by becoming a member of our loyalty program.\n",
       "\n",
       "By combining cutting-edge technology with a passion for beauty, Purplle is revolutionizing the way you shop for personal care products online. Explore our website today and discover the magic of Purplle! 💖"
      ],
      "text/plain": [
       "<IPython.core.display.Markdown object>"
      ]
     },
     "metadata": {},
     "output_type": "display_data"
    },
    {
     "data": {
      "text/markdown": [
       "\n",
       "Here's the Spanish translation of the Purplle brochure:\n",
       "\n",
       "**Introducing Purplle, tu destino único para todo lo related a la belleza!**\n",
       "\n",
       "As a leading online store for beauty and personal care products in India, we offer a wide range of products from top brands around the world. Browse through our categories and find the perfect product for your needs.\n",
       "\n",
       "**La cultura de la empresa**\n",
       "\n",
       "En Purplle, nosotros somos apasionados por la belleza y trabajamos incansablemente para proporcionar una experiencia de compra única y gratificante para nuestros clientes. Nuestro equipo estáformado por entusiastas de la belleza que siempre están buscando nuevos productos y tendencias. Creemos en crearlo un ambiente divertido y inclusivo que inspira la creatividad y la innovación.\n",
       "\n",
       "**Nuestros clientes**\n",
       "\n",
       "Nuestra clientela se compone de personas de todas las edades, géneros y orígenes que comparte un amor por la belleza. Si eres un profesional de maquillaje o simplemente empezando tu viaje de belleza, tenemos algo para ti.\n",
       "\n",
       "**Oportunidades laborales**\n",
       "\n",
       "Si eres apasionado por la belleza y tienes un don para el marketing, los negocios o la tecnología, ¡úniteos a Purplle! Ofrecemos oportunidades laborales emocionantes en áreas como comercio electrónico, marketing, gestión de la cadena de suministro y más. ¡Haz clic en el enlace para ver las últimas oportunidades de trabajo!\n",
       "\n",
       "**Ofertas exclusivas**\n",
       "\n",
       " Como cliente leal de Purplle, puedes disfrutar de ofertas exclusivas y descuentos en tus compras. Desde ventas temporales hasta programas de fidelidad, estamos aquí para agregar valor a tu experiencia de compra. ¡Está atento a las últimas promociones y descuentos!\n",
       "\n",
       "**Asistente de belleza**\n",
       "\n",
       "Necesitas ayuda para encontrar el producto perfecto? Nuestro Asistente de Belleza está aquí para ayudarte! Dinos lo que estás buscando y podemos recomendar produtos personalizados para ti. Con una amplia gama de opciones a elegir, puedes confiar en nuestros expertos para guiarte a través de tu experiencia de compra.\n",
       "\n",
       "**Categorías de comercio**\n",
       "\n",
       "Explora nuestras categorías y encuentra el producto perfecto para tu viaje de belleza. From skincare to haircare, fragrances to electricals, we have everything you need to look and feel great.\n",
       "\n",
       "* Skincare: Keep your skin healthy and radiant with our range of skincare products. From cleansers to moisturizers, exfoliants, and more, we have everything you need to achieve the glowing complexion you desire.\n",
       "* Haircare: Get the perfect hairstyle with our collection of hair care products. From shampoos and conditioners to styling products, treatments, and more, we have everything you need to keep your locks looking great.\n",
       "* Fragrances: Find your signature scent with our range of fragrances for men and women. From deodorants to perfumes, body sprays, and more, we have everything you need to make a lasting impression.\n",
       "* Electricals: Take your beauty routine to the next level with our selection of electrical products, including hair dryers, straighteners, curling irons, and more.\n",
       "\n",
       "**Marcas**\n",
       "\n",
       "Ofrecemos una amplia gama de productos de las mejores marcas del mundo. Desde establecidas hasta etiquetas emergentes, colaboramos con solo los mejores de la industria para traerle a usted las tendencias y innovaciones más recientes. Algunas de nuestras marcas populares incluyen:\n",
       "\n",
       "* Lakme\n",
       "* Maybelline\n",
       "* Colorbar\n",
       "* L'oreal\n",
       "* Revlon\n",
       "* Avon\n",
       "* Elle18\n",
       "\n",
       "**La belleza comienza**\n",
       "\n",
       "Según Coco Chanel, \"La belleza comienza cuando decides ser tú mismo\". En Purplle, creemos que la belleza es un estado de ánimo, y estamos aquí para ayudarte a encontrar tu perfoto match. Explora nuestro sitio web hoy en día y descubre la belleza que espera para usted!\n",
       "\n",
       "**Pago**\n",
       "\n",
       "Ofrecemos varias opciones de pago para hacer su experiencia de compra conveniente y segura. Desde tarjetas de crédito hasta tarjetas de débito, internet banking, y más, aceptamos todas las formas de pago principales. ¡Y gracias a nuestros pagos seguras de 100%, puedes depositar con confianza!\n",
       "\n",
       "**Conectarse**\n",
       "\n",
       "Quédate conectado con Purplle para las últimas noticias, promociones y lanzamientos de productos. Sigue nosotros en redes sociales o inscribidote por correo electrónico para mantenerte informado. ¡Y disfruta de descuentos y ofertas exclusivas al unirse a nuestro programa de lealtad!"
      ],
      "text/plain": [
       "<IPython.core.display.Markdown object>"
      ]
     },
     "metadata": {},
     "output_type": "display_data"
    }
   ],
   "source": [
    "create_advanced_brochure(\"Purplle\", \"http://purplle.com/\")"
   ]
  },
  {
   "cell_type": "code",
   "execution_count": null,
   "id": "43fb1fcf-126d-4345-8579-e1b07c18a522",
   "metadata": {},
   "outputs": [],
   "source": []
  },
  {
   "cell_type": "markdown",
   "id": "61eaaab7-0b47-4b29-82d4-75d474ad8d18",
   "metadata": {},
   "source": [
    "## Finally - a minor improvement\n",
    "\n",
    "With a small adjustment, we can change this so that the results stream back from OpenAI,\n",
    "with the familiar typewriter animation"
   ]
  },
  {
   "cell_type": "code",
   "execution_count": 30,
   "id": "51db0e49-f261-4137-aabe-92dd601f7725",
   "metadata": {},
   "outputs": [],
   "source": [
    "def stream_brochure(company_name, url):\n",
    "    stream = openai.chat.completions.create(\n",
    "        model=MODEL,\n",
    "        messages=[\n",
    "            {\"role\": \"system\", \"content\": system_prompt},\n",
    "            {\"role\": \"user\", \"content\": get_brochure_user_prompt(company_name, url)}\n",
    "          ],\n",
    "        stream=True\n",
    "    )\n",
    "    \n",
    "    response = \"\"\n",
    "    display_handle = display(Markdown(\"\"), display_id=True)\n",
    "    for chunk in stream:\n",
    "        response += chunk.choices[0].delta.content or ''\n",
    "        response = response.replace(\"```\",\"\").replace(\"markdown\", \"\")\n",
    "        update_display(Markdown(response), display_id=display_handle.display_id)"
   ]
  },
  {
   "cell_type": "code",
   "execution_count": 32,
   "id": "56bf0ae3-ee9d-4a72-9cd6-edcac67ceb6d",
   "metadata": {},
   "outputs": [
    {
     "name": "stdout",
     "output_type": "stream",
     "text": [
      "Found links: {'links': [{'type': 'about page', 'url': 'https://www.purplle.com/pr/about-us'}, {'type': 'careers page', 'url': 'https://purplle.turbohire.co/careerpage/3ed17e54-f66f-4ade-90b9-ef064dc6fbd6'}, {'type': 'press page', 'url': 'https://www.purplle.com/pr/about-us'}]}\n"
     ]
    },
    {
     "data": {
      "text/markdown": [
       "Hello! Here's a brochure for Purplle based on the information provided on their website:\n",
       "\n",
       "**Purplle: The Beauty Hub of India**\n",
       "\n",
       "Looking for an amazing beauty shopping experience? Look no further than Purplle, the leading online beauty destination in India. With a wide range of products from top brands and a user-friendly interface, Purplle is the go-to platform for all your beauty needs.\n",
       "\n",
       "**Exclusive Deals and Discounts**\n",
       "\n",
       "Purplle offers exclusive deals and discounts on various categories, including makeup, skincare, haircare, fragrances, and more. Take advantage of these offers and save money while shopping for your favorite beauty products.\n",
       "\n",
       "**Download the App and Shop on the Go**\n",
       "\n",
       "Download the Purplle app and shop on the go! The app is available on both iOS and Android platforms and makes grocery shopping a breeze. With just a few clicks, you can purchase your desired products anytime, anywhere.\n",
       "\n",
       "**Beauty Assistant: Find Your Perfect Match**\n",
       "\n",
       "Purplle's Beauty Assistant is here to help! Tell us what you're looking for, and we'll work our magic to find your perfect match. Our experts will recommend the best products based on your skin type, preferences, and needs.\n",
       "\n",
       "**Expert Skincare Tips**\n",
       "\n",
       "Purplle understands that skin health is important! That's why we provide expert skincare tips and advice on how to take care of your skin. Follow these tips, and you'll be well on your way to achieving the glowing skin you desire.\n",
       "\n",
       "**Spotlight on Brands**\n",
       "\n",
       "Purplle features a wide range of top brands in makeup, skincare, haircare, fragrances, and more. From Lakme to Maybelline, Colorbar to L'oreal, we have it all! Our spotlight section highlights the latest trends and products from these brands, making it easier for you to find what you need.\n",
       "\n",
       "**Customer Care: Got a Question? We've Got Answers!**\n",
       "\n",
       "At Purplle, customer satisfaction is our top priority! Our help center is packed with FAQs and submission forms to answer any questions you may have. Reach out to us for assistance, and we'll get back to you as soon as possible.\n",
       "\n",
       "**About Us: Meet the Team Behind Purplle**\n",
       "\n",
       "Purplle is more than just an online beauty platform; it's a team of passionate individuals working towards a common goal - to make beauty shopping easy and enjoyable for everyone in India. Learn more about our team, their experiences, and what drives us on our About Us page.\n",
       "\n",
       "**Careers: Join the Purplle Team!**\n",
       "\n",
       "Are you passionate about beauty? Do you want to be part of a dynamic team? Look no further than Purplle! Explore our careers page to learn more about job opportunities and how to join our team.\n",
       "\n",
       "**Investor Relations: Invest in the Future of Beauty Shopping**\n",
       "\n",
       "Are you looking for investment opportunities in the beauty industry? Purplle is the perfect platform for you! Explore our investor relations page to learn more about investing in the future of beauty shopping.\n",
       "\n",
       "**Privacy Information: Your Data Is Safe With Us**\n",
       "\n",
       "At Purplle, we prioritize your privacy and security above all else. Learn more about our privacy policies and how we protect your data on our Privacy Information page.\n",
       "\n",
       "So, what are you waiting for? Start shopping now and experience the convenience of beauty shopping at its best with Purplle!"
      ],
      "text/plain": [
       "<IPython.core.display.Markdown object>"
      ]
     },
     "metadata": {},
     "output_type": "display_data"
    }
   ],
   "source": [
    "stream_brochure(\"Purplle\", \"http://purplle.com/\")"
   ]
  },
  {
   "cell_type": "code",
   "execution_count": null,
   "id": "0bd0d920-b891-406a-ba1a-58c447181120",
   "metadata": {},
   "outputs": [],
   "source": []
  },
  {
   "cell_type": "code",
   "execution_count": null,
   "id": "fdb3f8d8-a3eb-41c8-b1aa-9f60686a653b",
   "metadata": {},
   "outputs": [],
   "source": [
    "# Try changing the system prompt to the humorous version when you make the Brochure for Hugging Face:\n",
    "\n",
    "stream_brochure(\"HuggingFace\", \"https://huggingface.co\")"
   ]
  },
  {
   "cell_type": "markdown",
   "id": "a27bf9e0-665f-4645-b66b-9725e2a959b5",
   "metadata": {},
   "source": [
    "<table style=\"margin: 0; text-align: left;\">\n",
    "    <tr>\n",
    "        <td style=\"width: 150px; height: 150px; vertical-align: middle;\">\n",
    "            <img src=\"../business.jpg\" width=\"150\" height=\"150\" style=\"display: block;\" />\n",
    "        </td>\n",
    "        <td>\n",
    "            <h2 style=\"color:#181;\">Business applications</h2>\n",
    "            <span style=\"color:#181;\">In this exercise we extended the Day 1 code to make multiple LLM calls, and generate a document.\n",
    "\n",
    "This is perhaps the first example of Agentic AI design patterns, as we combined multiple calls to LLMs. This will feature more in Week 2, and then we will return to Agentic AI in a big way in Week 8 when we build a fully autonomous Agent solution.\n",
    "\n",
    "Generating content in this way is one of the very most common Use Cases. As with summarization, this can be applied to any business vertical. Write marketing content, generate a product tutorial from a spec, create personalized email content, and so much more. Explore how you can apply content generation to your business, and try making yourself a proof-of-concept prototype. See what other students have done in the community-contributions folder -- so many valuable projects -- it's wild!</span>\n",
    "        </td>\n",
    "    </tr>\n",
    "</table>"
   ]
  },
  {
   "cell_type": "markdown",
   "id": "14b2454b-8ef8-4b5c-b928-053a15e0d553",
   "metadata": {},
   "source": [
    "<table style=\"margin: 0; text-align: left;\">\n",
    "    <tr>\n",
    "        <td style=\"width: 150px; height: 150px; vertical-align: middle;\">\n",
    "            <img src=\"../important.jpg\" width=\"150\" height=\"150\" style=\"display: block;\" />\n",
    "        </td>\n",
    "        <td>\n",
    "            <h2 style=\"color:#900;\">Before you move to Week 2 (which is tons of fun)</h2>\n",
    "            <span style=\"color:#900;\">Please see the week1 EXERCISE notebook for your challenge for the end of week 1. This will give you some essential practice working with Frontier APIs, and prepare you well for Week 2.</span>\n",
    "        </td>\n",
    "    </tr>\n",
    "</table>"
   ]
  },
  {
   "cell_type": "markdown",
   "id": "17b64f0f-7d33-4493-985a-033d06e8db08",
   "metadata": {},
   "source": [
    "<table style=\"margin: 0; text-align: left;\">\n",
    "    <tr>\n",
    "        <td style=\"width: 150px; height: 150px; vertical-align: middle;\">\n",
    "            <img src=\"../resources.jpg\" width=\"150\" height=\"150\" style=\"display: block;\" />\n",
    "        </td>\n",
    "        <td>\n",
    "            <h2 style=\"color:#f71;\">A reminder on 3 useful resources</h2>\n",
    "            <span style=\"color:#f71;\">1. The resources for the course are available <a href=\"https://edwarddonner.com/2024/11/13/llm-engineering-resources/\">here.</a><br/>\n",
    "            2. I'm on LinkedIn <a href=\"https://www.linkedin.com/in/eddonner/\">here</a> and I love connecting with people taking the course!<br/>\n",
    "            3. I'm trying out X/Twitter and I'm at <a href=\"https://x.com/edwarddonner\">@edwarddonner<a> and hoping people will teach me how it's done..  \n",
    "            </span>\n",
    "        </td>\n",
    "    </tr>\n",
    "</table>"
   ]
  },
  {
   "cell_type": "markdown",
   "id": "6f48e42e-fa7a-495f-a5d4-26bfc24d60b6",
   "metadata": {},
   "source": [
    "<table style=\"margin: 0; text-align: left;\">\n",
    "    <tr>\n",
    "        <td style=\"width: 150px; height: 150px; vertical-align: middle;\">\n",
    "            <img src=\"../thankyou.jpg\" width=\"150\" height=\"150\" style=\"display: block;\" />\n",
    "        </td>\n",
    "        <td>\n",
    "            <h2 style=\"color:#090;\">Finally! I have a special request for you</h2>\n",
    "            <span style=\"color:#090;\">\n",
    "                My editor tells me that it makes a MASSIVE difference when students rate this course on Udemy - it's one of the main ways that Udemy decides whether to show it to others. If you're able to take a minute to rate this, I'd be so very grateful! And regardless - always please reach out to me at ed@edwarddonner.com if I can help at any point.\n",
    "            </span>\n",
    "        </td>\n",
    "    </tr>\n",
    "</table>"
   ]
  },
  {
   "cell_type": "code",
   "execution_count": null,
   "id": "b8d3e1a1-ba54-4907-97c5-30f89a24775b",
   "metadata": {},
   "outputs": [],
   "source": []
  }
 ],
 "metadata": {
  "kernelspec": {
   "display_name": "Python 3 (ipykernel)",
   "language": "python",
   "name": "python3"
  },
  "language_info": {
   "codemirror_mode": {
    "name": "ipython",
    "version": 3
   },
   "file_extension": ".py",
   "mimetype": "text/x-python",
   "name": "python",
   "nbconvert_exporter": "python",
   "pygments_lexer": "ipython3",
   "version": "3.11.13"
  }
 },
 "nbformat": 4,
 "nbformat_minor": 5
}
