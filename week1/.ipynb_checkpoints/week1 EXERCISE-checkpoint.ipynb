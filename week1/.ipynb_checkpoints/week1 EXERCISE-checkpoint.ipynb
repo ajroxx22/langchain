{
 "cells": [
  {
   "cell_type": "markdown",
   "id": "fe12c203-e6a6-452c-a655-afb8a03a4ff5",
   "metadata": {},
   "source": [
    "# End of week 1 exercise\n",
    "\n",
    "To demonstrate your familiarity with OpenAI API, and also Ollama, build a tool that takes a technical question,  \n",
    "and responds with an explanation. This is a tool that you will be able to use yourself during the course!"
   ]
  },
  {
   "cell_type": "code",
   "execution_count": 6,
   "id": "c1070317-3ed9-4659-abe3-828943230e03",
   "metadata": {},
   "outputs": [],
   "source": [
    "from openai import OpenAI\n",
    "import requests"
   ]
  },
  {
   "cell_type": "code",
   "execution_count": null,
   "id": "4a456906-915a-4bfd-bb9d-57e505c5093f",
   "metadata": {},
   "outputs": [],
   "source": []
  },
  {
   "cell_type": "code",
   "execution_count": 3,
   "id": "1140c32b-1a9f-4046-bd07-441eb820cf47",
   "metadata": {},
   "outputs": [],
   "source": [
    "# Constants\n",
    "\n",
    "OLLAMA_API = \"http://localhost:11434/api/chat\"\n",
    "HEADERS = {\"Content-Type\": \"application/json\"}\n",
    "MODEL = \"llama2\""
   ]
  },
  {
   "cell_type": "code",
   "execution_count": null,
   "id": "a8d7923c-5f28-4c30-8556-342d7c8497c1",
   "metadata": {},
   "outputs": [],
   "source": [
    "# set up environment"
   ]
  },
  {
   "cell_type": "code",
   "execution_count": 4,
   "id": "3f0d0137-52b0-47a8-81a8-11a90a010798",
   "metadata": {},
   "outputs": [],
   "source": [
    "# here is the question; type over this to ask something new\n",
    "\n",
    "question = \"\"\"\n",
    "Please explain what this code does and why:\n",
    "yield from {book.get(\"author\") for book in books if book.get(\"author\")}\n",
    "\"\"\""
   ]
  },
  {
   "cell_type": "code",
   "execution_count": 5,
   "id": "a16fefd6-1cc1-48c7-9ca6-bfb9860733fd",
   "metadata": {},
   "outputs": [],
   "source": [
    "messages = [\n",
    "    {\"role\": \"user\", \"content\": question}\n",
    "]"
   ]
  },
  {
   "cell_type": "code",
   "execution_count": 8,
   "id": "e15d9370-3b0c-4f89-ae54-996ab57f5b35",
   "metadata": {},
   "outputs": [],
   "source": [
    "payload = {\n",
    "        \"model\": MODEL,\n",
    "        \"messages\": messages,\n",
    "        \"stream\": False\n",
    "    }"
   ]
  },
  {
   "cell_type": "code",
   "execution_count": null,
   "id": "60ce7000-a4a5-4cce-a261-e75ef45063b4",
   "metadata": {},
   "outputs": [],
   "source": [
    "# Get gpt-4o-mini to answer, with streaming"
   ]
  },
  {
   "cell_type": "code",
   "execution_count": 9,
   "id": "8f7c8ea8-4082-4ad0-8751-3301adcf6538",
   "metadata": {},
   "outputs": [
    {
     "name": "stdout",
     "output_type": "stream",
     "text": [
      "This code is a generator expression that yields the value of `book.get(\"author\")` for each `book` in a list `books`, based on certain conditions. Here's a breakdown of what the code does and why:\n",
      "\n",
      "1. `yield from`: This keyword is used to create a new generator, which is an object that can produce multiple values over time. The `from` keyword specifies the source of the values to be yielded. In this case, it's a list of books.\n",
      "2. `{book.get(\"author\") for book in books if book.get(\"author\")}`: This is the loop that generates the values. It iterates over the `books` list and for each `book`, it checks if `book.get(\"author\")` is not `None`. If it's not `None`, the loop yields the value of `book.get(\"author\")`.\n",
      "\n",
      "Here's why this code works:\n",
      "\n",
      "* The `for book in books` line starts an iteration over the `books` list.\n",
      "* The `if book.get(\"author\") is not None:` check is used to filter out books that don't have an author. If a book doesn't have an author, the value of `book.get(\"author\")` will be `None`, and the loop will skip over it.\n",
      "* The `yield from` line creates a new generator that yields the value of `book.get(\"author\")` for each book in the list that has an author.\n",
      "\n",
      "So, when you run this code, it will yield the following values:\n",
      "\n",
      "* For the first book in the list, it will yield the value of `book.get(\"author\")`, which might be a string like \"John Doe\" or any other value.\n",
      "* For the second book in the list, it will again check if `book.get(\"author\")` is not `None`, and if it is, it will yield the value of `book.get(\"author\")`. And so on for each book in the list that has an author.\n",
      "\n",
      "The generator expression is used to create a new generator that yields the values from the `books` list based on the condition that each book must have an author. This allows you to iterate over the list and retrieve the authors of each book in a more concise and efficient way than using a traditional for loop.\n"
     ]
    }
   ],
   "source": [
    "# Get Llama 3.2 to answer\n",
    "response = requests.post(OLLAMA_API, json=payload, headers=HEADERS)\n",
    "print(response.json()['message']['content'])"
   ]
  },
  {
   "cell_type": "code",
   "execution_count": null,
   "id": "b6827044-211e-44b7-b244-226f76e91ec0",
   "metadata": {},
   "outputs": [],
   "source": []
  }
 ],
 "metadata": {
  "kernelspec": {
   "display_name": "Python 3 (ipykernel)",
   "language": "python",
   "name": "python3"
  },
  "language_info": {
   "codemirror_mode": {
    "name": "ipython",
    "version": 3
   },
   "file_extension": ".py",
   "mimetype": "text/x-python",
   "name": "python",
   "nbconvert_exporter": "python",
   "pygments_lexer": "ipython3",
   "version": "3.11.13"
  }
 },
 "nbformat": 4,
 "nbformat_minor": 5
}
